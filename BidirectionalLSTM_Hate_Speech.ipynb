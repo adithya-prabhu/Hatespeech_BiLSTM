{
  "nbformat": 4,
  "nbformat_minor": 0,
  "metadata": {
    "kernelspec": {
      "display_name": "Python 3",
      "name": "python3"
    },
    "language_info": {
      "codemirror_mode": {
        "name": "ipython",
        "version": 3
      },
      "file_extension": ".py",
      "mimetype": "text/x-python",
      "name": "python",
      "nbconvert_exporter": "python",
      "pygments_lexer": "ipython3",
      "version": "3.7.4"
    },
    "colab": {
      "provenance": [],
      "gpuType": "T4"
    },
    "accelerator": "GPU"
  },
  "cells": [
    {
      "cell_type": "markdown",
      "source": [
        "# *Bidirectional LSTM* is a sequence model which contains two LSTM layers, one for processing input in the forward direction and the other for processing in the backward direction"
      ],
      "metadata": {
        "id": "QEeE_aXFSO5v"
      }
    },
    {
      "cell_type": "markdown",
      "metadata": {
        "id": "FF_QcGO15Kvb"
      },
      "source": [
        "# **Data Preprocessing for datasets**"
      ]
    },
    {
      "cell_type": "code",
      "metadata": {
        "id": "bWLHLmVuAeIl",
        "colab": {
          "base_uri": "https://localhost:8080/"
        },
        "outputId": "1b9e9305-cf15-4227-cb12-bc902cfe6319"
      },
      "source": [
        "import pandas as pd\n",
        "pd.set_option('display.max_colwidth', -1)\n",
        "import numpy as np\n",
        "import seaborn as sns\n",
        "import matplotlib.pyplot as plt\n",
        "\n",
        "import wordcloud\n",
        "\n",
        "import nltk\n",
        "nltk.download('stopwords')\n",
        "nltk.download('wordnet')\n",
        "nltk.download('punkt')\n",
        "nltk.download('averaged_perceptron_tagger')\n",
        "\n",
        "import warnings\n",
        "warnings.filterwarnings('ignore')"
      ],
      "execution_count": 2,
      "outputs": [
        {
          "output_type": "stream",
          "name": "stderr",
          "text": [
            "<ipython-input-2-b00d50b9414f>:2: FutureWarning: Passing a negative integer is deprecated in version 1.0 and will not be supported in future version. Instead, use None to not limit the column width.\n",
            "  pd.set_option('display.max_colwidth', -1)\n",
            "[nltk_data] Downloading package stopwords to /root/nltk_data...\n",
            "[nltk_data]   Unzipping corpora/stopwords.zip.\n",
            "[nltk_data] Downloading package wordnet to /root/nltk_data...\n",
            "[nltk_data] Downloading package punkt to /root/nltk_data...\n",
            "[nltk_data]   Unzipping tokenizers/punkt.zip.\n",
            "[nltk_data] Downloading package averaged_perceptron_tagger to\n",
            "[nltk_data]     /root/nltk_data...\n",
            "[nltk_data]   Unzipping taggers/averaged_perceptron_tagger.zip.\n"
          ]
        }
      ]
    },
    {
      "cell_type": "code",
      "metadata": {
        "id": "VWTjTfXoAeIs"
      },
      "source": [
        "wiki_data = pd.read_csv(\"train.csv\")"
      ],
      "execution_count": 4,
      "outputs": []
    },
    {
      "cell_type": "code",
      "source": [
        "wiki_data.drop(columns = {'id','severe_toxic','obscene','threat','insult','identity_hate'},inplace=True)\n",
        "wiki_data.rename(columns = {'comment_text': 'text', 'toxic':'label'}, inplace = True)"
      ],
      "metadata": {
        "id": "UIScGUZ1mXrT"
      },
      "execution_count": 5,
      "outputs": []
    },
    {
      "cell_type": "code",
      "metadata": {
        "id": "HO6xEkv1AeJV"
      },
      "source": [
        "# remove puctunations, https\n",
        "import re\n",
        "def  clean_text(df, text_field):\n",
        "    df[text_field] = df[text_field].str.lower()\n",
        "    df[text_field] = df[text_field].apply(lambda elem: re.sub(r\"(@[A-Za-z0-9]+)|([^0-9A-Za-z \\t])|(\\w+:\\/\\/\\S+)|^rt|http.+?\", \"\", elem))\n",
        "    return df\n"
      ],
      "execution_count": 6,
      "outputs": []
    },
    {
      "cell_type": "code",
      "metadata": {
        "id": "tiA6Og1IiwwF"
      },
      "source": [
        "wiki_data = clean_text(wiki_data, 'text')"
      ],
      "execution_count": 7,
      "outputs": []
    },
    {
      "cell_type": "code",
      "source": [
        "wiki_data.label.value_counts()"
      ],
      "metadata": {
        "colab": {
          "base_uri": "https://localhost:8080/"
        },
        "id": "B_aDy7lMVIbN",
        "outputId": "79fb74eb-42fd-4349-bcdb-911fd17b3e50"
      },
      "execution_count": 45,
      "outputs": [
        {
          "output_type": "execute_result",
          "data": {
            "text/plain": [
              "0    144277\n",
              "1    15294 \n",
              "Name: label, dtype: int64"
            ]
          },
          "metadata": {},
          "execution_count": 45
        }
      ]
    },
    {
      "cell_type": "code",
      "metadata": {
        "id": "NS5UFQDYAeJZ"
      },
      "source": [
        "stopwords = nltk.corpus.stopwords.words('english')\n",
        "wiki_data['text'] = wiki_data['text'].apply(lambda x: ' '.join([word for word in x.split() if word not in (stopwords)]))"
      ],
      "execution_count": 8,
      "outputs": []
    },
    {
      "cell_type": "code",
      "source": [
        "!pip install wordcloud"
      ],
      "metadata": {
        "colab": {
          "base_uri": "https://localhost:8080/"
        },
        "id": "hE4r_qDtTmkn",
        "outputId": "61563b9d-9a74-404e-a5b5-ccbd281f4745"
      },
      "execution_count": 37,
      "outputs": [
        {
          "output_type": "stream",
          "name": "stdout",
          "text": [
            "Requirement already satisfied: wordcloud in /usr/local/lib/python3.10/dist-packages (1.9.2)\n",
            "Requirement already satisfied: numpy>=1.6.1 in /usr/local/lib/python3.10/dist-packages (from wordcloud) (1.23.5)\n",
            "Requirement already satisfied: pillow in /usr/local/lib/python3.10/dist-packages (from wordcloud) (9.4.0)\n",
            "Requirement already satisfied: matplotlib in /usr/local/lib/python3.10/dist-packages (from wordcloud) (3.7.1)\n",
            "Requirement already satisfied: contourpy>=1.0.1 in /usr/local/lib/python3.10/dist-packages (from matplotlib->wordcloud) (1.1.1)\n",
            "Requirement already satisfied: cycler>=0.10 in /usr/local/lib/python3.10/dist-packages (from matplotlib->wordcloud) (0.12.1)\n",
            "Requirement already satisfied: fonttools>=4.22.0 in /usr/local/lib/python3.10/dist-packages (from matplotlib->wordcloud) (4.43.1)\n",
            "Requirement already satisfied: kiwisolver>=1.0.1 in /usr/local/lib/python3.10/dist-packages (from matplotlib->wordcloud) (1.4.5)\n",
            "Requirement already satisfied: packaging>=20.0 in /usr/local/lib/python3.10/dist-packages (from matplotlib->wordcloud) (23.2)\n",
            "Requirement already satisfied: pyparsing>=2.3.1 in /usr/local/lib/python3.10/dist-packages (from matplotlib->wordcloud) (3.1.1)\n",
            "Requirement already satisfied: python-dateutil>=2.7 in /usr/local/lib/python3.10/dist-packages (from matplotlib->wordcloud) (2.8.2)\n",
            "Requirement already satisfied: six>=1.5 in /usr/local/lib/python3.10/dist-packages (from python-dateutil>=2.7->matplotlib->wordcloud) (1.16.0)\n"
          ]
        }
      ]
    },
    {
      "cell_type": "code",
      "source": [
        "from wordcloud import WordCloud\n",
        "# instantiate a word cloud object\n",
        "wiki_wc = WordCloud(\n",
        "    background_color='white',\n",
        "    stopwords=stopwords\n",
        ")\n",
        "# generate the word cloud\n",
        "wiki_wc.generate(str(wiki_data['text']))\n",
        "\n",
        "# display the word cloud\n",
        "plt.imshow(wiki_wc, interpolation='bilinear')\n",
        "plt.axis('off')\n",
        "plt.show()"
      ],
      "metadata": {
        "colab": {
          "base_uri": "https://localhost:8080/",
          "height": 285
        },
        "id": "kk6MNQdhTvM5",
        "outputId": "01c6808c-42e6-4e92-8010-5d68ca70782b"
      },
      "execution_count": 47,
      "outputs": [
        {
          "output_type": "display_data",
          "data": {
            "text/plain": [
              "<Figure size 640x480 with 1 Axes>"
            ],
            "image/png": "[encoded data removed]"
          },
          "metadata": {}
        }
      ]
    },
    {
      "cell_type": "markdown",
      "metadata": {
        "id": "0mxdi-_TAeJo"
      },
      "source": [
        "# Basic NLP"
      ]
    },
    {
      "cell_type": "code",
      "metadata": {
        "id": "xDqC1kEyAeJp"
      },
      "source": [
        "from collections import Counter\n",
        "\n",
        "#count unique words\n",
        "def counter_word(text):\n",
        "    count = Counter()\n",
        "    for i in text.values:\n",
        "        for word in i.split():\n",
        "            count[word]+=1\n",
        "    return count"
      ],
      "execution_count": 9,
      "outputs": []
    },
    {
      "cell_type": "code",
      "metadata": {
        "id": "IawaT89-AeJt"
      },
      "source": [
        "counter = counter_word(wiki_data['text'])"
      ],
      "execution_count": 10,
      "outputs": []
    },
    {
      "cell_type": "code",
      "metadata": {
        "id": "kaqJlhyjeo1Q",
        "colab": {
          "base_uri": "https://localhost:8080/"
        },
        "outputId": "93aa17b5-faf6-4070-bdc3-d2d0a9153547"
      },
      "source": [
        "counter"
      ],
      "execution_count": 11,
      "outputs": [
        {
          "output_type": "execute_result",
          "data": {
            "text/plain": [
              "Counter({'explanationwhy': 1,\n",
              "         'edits': 9731,\n",
              "         'made': 9518,\n",
              "         'username': 1758,\n",
              "         'hardcore': 147,\n",
              "         'metallica': 35,\n",
              "         'fan': 797,\n",
              "         'reverted': 3850,\n",
              "         'werent': 452,\n",
              "         'vandalisms': 38,\n",
              "         'closure': 85,\n",
              "         'gas': 317,\n",
              "         'voted': 297,\n",
              "         'new': 10393,\n",
              "         'york': 881,\n",
              "         'dolls': 20,\n",
              "         'fac': 285,\n",
              "         'please': 27794,\n",
              "         'dont': 25874,\n",
              "         'remove': 5095,\n",
              "         'template': 2830,\n",
              "         'talk': 30927,\n",
              "         'page': 43873,\n",
              "         'since': 8422,\n",
              "         'im': 18624,\n",
              "         'retired': 222,\n",
              "         'now892053827': 2,\n",
              "         'daww': 1,\n",
              "         'matches': 341,\n",
              "         'background': 694,\n",
              "         'colour': 205,\n",
              "         'seemingly': 164,\n",
              "         'stuck': 336,\n",
              "         'thanks': 11950,\n",
              "         '2151': 8,\n",
              "         'january': 1134,\n",
              "         '11': 910,\n",
              "         '2016': 69,\n",
              "         'utc': 3711,\n",
              "         'hey': 2496,\n",
              "         'man': 2630,\n",
              "         'really': 9157,\n",
              "         'trying': 4974,\n",
              "         'edit': 17363,\n",
              "         'war': 3739,\n",
              "         'guy': 1916,\n",
              "         'constantly': 418,\n",
              "         'removing': 2515,\n",
              "         'relevant': 2447,\n",
              "         'information': 11852,\n",
              "         'talking': 2007,\n",
              "         'instead': 3451,\n",
              "         'seems': 6043,\n",
              "         'care': 2920,\n",
              "         'formatting': 378,\n",
              "         'actual': 1648,\n",
              "         'info': 2454,\n",
              "         'morei': 14,\n",
              "         'cant': 6100,\n",
              "         'make': 12877,\n",
              "         'real': 3676,\n",
              "         'suggestions': 713,\n",
              "         'improvement': 448,\n",
              "         'wondered': 108,\n",
              "         'section': 9770,\n",
              "         'statistics': 351,\n",
              "         'later': 2350,\n",
              "         'subsection': 213,\n",
              "         'types': 818,\n",
              "         'accidents': 49,\n",
              "         'think': 19920,\n",
              "         'references': 4283,\n",
              "         'may': 15472,\n",
              "         'need': 10137,\n",
              "         'tidying': 29,\n",
              "         'exact': 740,\n",
              "         'format': 843,\n",
              "         'ie': 1560,\n",
              "         'date': 2752,\n",
              "         'etc': 3610,\n",
              "         'noone': 223,\n",
              "         'else': 3996,\n",
              "         'first': 10557,\n",
              "         'preferences': 158,\n",
              "         'style': 1664,\n",
              "         'want': 11573,\n",
              "         'let': 4577,\n",
              "         'knowthere': 1,\n",
              "         'appears': 2268,\n",
              "         'backlog': 104,\n",
              "         'articles': 17021,\n",
              "         'review': 3046,\n",
              "         'guess': 1892,\n",
              "         'delay': 492,\n",
              "         'reviewer': 212,\n",
              "         'turns': 258,\n",
              "         'listed': 3000,\n",
              "         'form': 1883,\n",
              "         'eg': 1111,\n",
              "         'wikipediagoodarticlenominationstransport': 1,\n",
              "         'sir': 534,\n",
              "         'hero': 216,\n",
              "         'chance': 1067,\n",
              "         'remember': 2066,\n",
              "         'thats': 6814,\n",
              "         'congratulations': 314,\n",
              "         'well': 11462,\n",
              "         'use': 16046,\n",
              "         'tools': 407,\n",
              "         'cocksucker': 538,\n",
              "         'piss': 215,\n",
              "         'around': 3905,\n",
              "         'work': 8546,\n",
              "         'vandalism': 5757,\n",
              "         'matt': 213,\n",
              "         'shirvington': 1,\n",
              "         'article': 53796,\n",
              "         'banned': 1783,\n",
              "         'sorry': 4330,\n",
              "         'word': 4108,\n",
              "         'nonsense': 1526,\n",
              "         'offensive': 703,\n",
              "         'anyway': 2327,\n",
              "         'intending': 55,\n",
              "         'write': 3736,\n",
              "         'anything': 5829,\n",
              "         'articlewow': 3,\n",
              "         'would': 29090,\n",
              "         'jump': 287,\n",
              "         'merely': 1103,\n",
              "         'requesting': 1042,\n",
              "         'encyclopedic': 755,\n",
              "         'one': 27689,\n",
              "         'school': 2445,\n",
              "         'reference': 4381,\n",
              "         'selective': 141,\n",
              "         'breeding': 55,\n",
              "         'almost': 1808,\n",
              "         'stub': 566,\n",
              "         'points': 1721,\n",
              "         'animal': 323,\n",
              "         'short': 1636,\n",
              "         'messy': 71,\n",
              "         'gives': 1043,\n",
              "         'must': 4903,\n",
              "         'someone': 7752,\n",
              "         'expertise': 221,\n",
              "         'eugenics': 27,\n",
              "         '93161107169': 8,\n",
              "         'alignment': 37,\n",
              "         'subject': 4974,\n",
              "         'contrary': 553,\n",
              "         'dulithgow': 2,\n",
              "         'fair': 4066,\n",
              "         'rationale': 1179,\n",
              "         'imagewonjujpgthanks': 2,\n",
              "         'uploading': 791,\n",
              "         'imagewonjujpg': 2,\n",
              "         'notice': 3015,\n",
              "         'image': 7904,\n",
              "         'specifies': 335,\n",
              "         'used': 9116,\n",
              "         'explanation': 1724,\n",
              "         'wikipedia': 33802,\n",
              "         'constitutes': 391,\n",
              "         'addition': 1485,\n",
              "         'boilerplate': 72,\n",
              "         'also': 19926,\n",
              "         'description': 1732,\n",
              "         'specific': 2329,\n",
              "         'using': 6019,\n",
              "         'consistent': 529,\n",
              "         'useplease': 32,\n",
              "         'go': 10003,\n",
              "         'include': 2804,\n",
              "         'rationaleif': 105,\n",
              "         'uploaded': 1759,\n",
              "         'media': 3307,\n",
              "         'consider': 3375,\n",
              "         'checking': 760,\n",
              "         'specified': 510,\n",
              "         'pages': 10223,\n",
              "         'find': 8931,\n",
              "         'list': 7076,\n",
              "         'edited': 2095,\n",
              "         'clicking': 695,\n",
              "         'contributions': 3773,\n",
              "         'link': 7359,\n",
              "         'located': 598,\n",
              "         'top': 3059,\n",
              "         'logged': 622,\n",
              "         'selecting': 290,\n",
              "         'dropdown': 258,\n",
              "         'box': 1143,\n",
              "         'note': 6262,\n",
              "         'images': 3565,\n",
              "         '4': 2012,\n",
              "         '2006': 1917,\n",
              "         'lacking': 373,\n",
              "         'deleted': 8655,\n",
              "         'week': 1634,\n",
              "         'described': 1211,\n",
              "         'criteria': 3303,\n",
              "         'speedy': 4817,\n",
              "         'deletion': 10714,\n",
              "         'questions': 4623,\n",
              "         'ask': 5975,\n",
              "         'copyright': 4938,\n",
              "         'thank': 8913,\n",
              "         'contribs': 2188,\n",
              "         'unspecified': 98,\n",
              "         'source': 9971,\n",
              "         'noticed': 1943,\n",
              "         'files': 683,\n",
              "         'currently': 2320,\n",
              "         'doesnt': 6691,\n",
              "         'specify': 480,\n",
              "         'created': 3922,\n",
              "         'content': 6918,\n",
              "         'status': 1752,\n",
              "         'unclear': 444,\n",
              "         'create': 2661,\n",
              "         'file': 1507,\n",
              "         'owner': 400,\n",
              "         'obtained': 240,\n",
              "         'website': 3191,\n",
              "         'taken': 2314,\n",
              "         'together': 1486,\n",
              "         'restatement': 91,\n",
              "         'websites': 968,\n",
              "         'terms': 1741,\n",
              "         'usually': 1390,\n",
              "         'sufficient': 584,\n",
              "         'however': 6157,\n",
              "         'holder': 463,\n",
              "         'different': 4603,\n",
              "         'publisher': 292,\n",
              "         'acknowledgedas': 87,\n",
              "         'adding': 4065,\n",
              "         'add': 8195,\n",
              "         'proper': 1525,\n",
              "         'licensing': 241,\n",
              "         'tag': 4932,\n",
              "         'already': 5310,\n",
              "         'createdtook': 158,\n",
              "         'picture': 2379,\n",
              "         'audio': 271,\n",
              "         'video': 1358,\n",
              "         'release': 1161,\n",
              "         'gfdl': 440,\n",
              "         'believe': 5833,\n",
              "         'meets': 891,\n",
              "         'wikipediafair': 230,\n",
              "         'tags': 1500,\n",
              "         'wikipediaimage': 427,\n",
              "         'tagsfair': 91,\n",
              "         'see': 21082,\n",
              "         'full': 2303,\n",
              "         'useif': 154,\n",
              "         'tagged': 1366,\n",
              "         'following': 2885,\n",
              "         'unsourced': 912,\n",
              "         'untagged': 169,\n",
              "         'copyrighted': 683,\n",
              "         'nonfree': 781,\n",
              "         'license': 1003,\n",
              "         'per': 2407,\n",
              "         '48': 270,\n",
              "         'hours': 1518,\n",
              "         'bbq': 12,\n",
              "         'lets': 1796,\n",
              "         'discuss': 2358,\n",
              "         'itmaybe': 8,\n",
              "         'phone': 300,\n",
              "         'exclusive': 167,\n",
              "         'group': 2933,\n",
              "         'wp': 1648,\n",
              "         'talibanswho': 1,\n",
              "         'good': 12409,\n",
              "         'destroying': 123,\n",
              "         'selfappointed': 50,\n",
              "         'purist': 3,\n",
              "         'gang': 205,\n",
              "         'asks': 126,\n",
              "         'abt': 19,\n",
              "         'antisocial': 21,\n",
              "         'destructive': 118,\n",
              "         'noncontribution': 1,\n",
              "         'wpask': 1,\n",
              "         'sityush': 3,\n",
              "         'clean': 638,\n",
              "         'behavior': 1254,\n",
              "         'issue': 4665,\n",
              "         'nonsensical': 92,\n",
              "         'warnings': 885,\n",
              "         'start': 2785,\n",
              "         'throwing': 194,\n",
              "         'accusations': 818,\n",
              "         'itselfmaking': 1,\n",
              "         'ad': 661,\n",
              "         'hominem': 174,\n",
              "         'attacks': 2297,\n",
              "         'isnt': 4571,\n",
              "         'going': 7351,\n",
              "         'strengthen': 30,\n",
              "         'argument': 1951,\n",
              "         'look': 8091,\n",
              "         'like': 27568,\n",
              "         'abusing': 402,\n",
              "         'power': 1946,\n",
              "         'admin': 3427,\n",
              "         'relevantthis': 1,\n",
              "         'probably': 4204,\n",
              "         'single': 2142,\n",
              "         'talked': 256,\n",
              "         'event': 982,\n",
              "         'int': 44,\n",
              "         'news': 2093,\n",
              "         'late': 793,\n",
              "         'absence': 197,\n",
              "         'notable': 3767,\n",
              "         'living': 1382,\n",
              "         'expresident': 2,\n",
              "         'attend': 144,\n",
              "         'certainly': 2254,\n",
              "         'dedicating': 5,\n",
              "         'aircracft': 1,\n",
              "         'carrier': 57,\n",
              "         'intend': 370,\n",
              "         'revert': 3186,\n",
              "         'hopes': 127,\n",
              "         'attracting': 24,\n",
              "         'attention': 1568,\n",
              "         'willing': 891,\n",
              "         'throw': 343,\n",
              "         'quite': 3482,\n",
              "         'liberally': 26,\n",
              "         'perhaps': 3381,\n",
              "         'achieve': 263,\n",
              "         'level': 1306,\n",
              "         'civility': 468,\n",
              "         'rational': 206,\n",
              "         'discussion': 8854,\n",
              "         'topic': 2665,\n",
              "         'resolve': 465,\n",
              "         'matter': 3790,\n",
              "         'peacefully': 24,\n",
              "         'oh': 2760,\n",
              "         'girl': 459,\n",
              "         'started': 2517,\n",
              "         'arguments': 1144,\n",
              "         'nose': 171,\n",
              "         'belong': 792,\n",
              "         'yvesnimmo': 1,\n",
              "         'said': 7384,\n",
              "         'situation': 1312,\n",
              "         'settled': 234,\n",
              "         'apologized': 105,\n",
              "         'juelz': 5,\n",
              "         'santanas': 3,\n",
              "         'agein': 1,\n",
              "         '2002': 332,\n",
              "         'santana': 10,\n",
              "         '18': 655,\n",
              "         'years': 4598,\n",
              "         'old': 3450,\n",
              "         'came': 2097,\n",
              "         'february': 922,\n",
              "         '18th': 100,\n",
              "         'makes': 3229,\n",
              "         'turn': 747,\n",
              "         '19': 551,\n",
              "         'making': 4565,\n",
              "         'songs': 493,\n",
              "         'diplomats': 7,\n",
              "         'third': 1258,\n",
              "         'neff': 5,\n",
              "         'signed': 459,\n",
              "         'cams': 4,\n",
              "         'label': 483,\n",
              "         'roc': 70,\n",
              "         'fella': 20,\n",
              "         '2003': 532,\n",
              "         '20': 1151,\n",
              "         'coming': 1130,\n",
              "         'singles': 203,\n",
              "         'town': 604,\n",
              "         'yes': 3610,\n",
              "         'born': 1152,\n",
              "         '1983': 85,\n",
              "         'could': 11733,\n",
              "         'older': 420,\n",
              "         'lloyd': 50,\n",
              "         'banks': 106,\n",
              "         '22': 546,\n",
              "         'birthday': 182,\n",
              "         'passed': 446,\n",
              "         'homie': 19,\n",
              "         '23': 771,\n",
              "         'death': 1428,\n",
              "         'god': 2041,\n",
              "         'forbid': 52,\n",
              "         'thinking': 1128,\n",
              "         'equals': 81,\n",
              "         'caculator': 1,\n",
              "         'stop': 6987,\n",
              "         'changing': 1220,\n",
              "         'year': 2829,\n",
              "         'birth': 554,\n",
              "         'bye': 400,\n",
              "         'come': 4496,\n",
              "         'comming': 20,\n",
              "         'back': 7677,\n",
              "         'tosser': 25,\n",
              "         'redirect': 2598,\n",
              "         'talkvoydan': 1,\n",
              "         'pop': 422,\n",
              "         'georgiev': 3,\n",
              "         'chernodrinski': 2,\n",
              "         'mitsurugi': 1,\n",
              "         'point': 8264,\n",
              "         'sense': 2634,\n",
              "         'argue': 837,\n",
              "         'hindi': 147,\n",
              "         'ryo': 2,\n",
              "         'sakazakis': 1,\n",
              "         'mean': 4422,\n",
              "         'bother': 720,\n",
              "         'youre': 7083,\n",
              "         'writing': 2298,\n",
              "         'something': 7314,\n",
              "         'regarding': 2849,\n",
              "         'posted': 1997,\n",
              "         'acctually': 4,\n",
              "         'even': 13295,\n",
              "         'betterid': 1,\n",
              "         'take': 7912,\n",
              "         'closer': 304,\n",
              "         'premature': 71,\n",
              "         'wrestling': 236,\n",
              "         'deaths': 190,\n",
              "         'catagory': 11,\n",
              "         'men': 926,\n",
              "         'surely': 654,\n",
              "         'besides': 661,\n",
              "         'delting': 2,\n",
              "         'recent': 2433,\n",
              "         'read': 8051,\n",
              "         'wpfilmplot': 5,\n",
              "         'editing': 10048,\n",
              "         'film': 1692,\n",
              "         'simply': 4161,\n",
              "         'entirely': 1097,\n",
              "         'many': 9424,\n",
              "         'unnecessary': 472,\n",
              "         'details': 1312,\n",
              "         'bad': 3362,\n",
              "         'damage': 424,\n",
              "         '45': 196,\n",
              "         'know': 18902,\n",
              "         'yeah': 1263,\n",
              "         'studying': 147,\n",
              "         'nowdeepu': 1,\n",
              "         'snowflakes': 2,\n",
              "         'always': 3510,\n",
              "         'symmetrical': 11,\n",
              "         'geometry': 70,\n",
              "         'stated': 1795,\n",
              "         'snowflake': 4,\n",
              "         'six': 515,\n",
              "         'symmetric': 12,\n",
              "         'arms': 354,\n",
              "         'assertion': 422,\n",
              "         'true': 3397,\n",
              "         'according': 2099,\n",
              "         'kenneth': 54,\n",
              "         'libbrecht': 1,\n",
              "         'rather': 4679,\n",
              "         'unattractive': 8,\n",
              "         'irregular': 23,\n",
              "         'crystals': 3,\n",
              "         'far': 3908,\n",
              "         'common': 2175,\n",
              "         'variety': 278,\n",
              "         'site': 3965,\n",
              "         'get': 13248,\n",
              "         'facts': 2874,\n",
              "         'still': 7884,\n",
              "         'decent': 303,\n",
              "         'number': 3485,\n",
              "         'falsities': 3,\n",
              "         'forgive': 234,\n",
              "         'signpost': 188,\n",
              "         '24': 1188,\n",
              "         'september': 978,\n",
              "         '2012': 958,\n",
              "         'singlepage': 43,\n",
              "         'unsubscribe': 74,\n",
              "         'reconsidering': 10,\n",
              "         '1st': 351,\n",
              "         'paragraph': 1915,\n",
              "         'editi': 20,\n",
              "         'understand': 4832,\n",
              "         'reasons': 1866,\n",
              "         'sure': 6314,\n",
              "         'data': 1268,\n",
              "         'necessarily': 502,\n",
              "         'wrong': 5029,\n",
              "         'persuaded': 33,\n",
              "         'strategy': 164,\n",
              "         'introducing': 172,\n",
              "         'academic': 813,\n",
              "         'honors': 40,\n",
              "         'unhelpful': 144,\n",
              "         'approach': 706,\n",
              "         'sitting': 214,\n",
              "         'justices': 16,\n",
              "         'similarly': 266,\n",
              "         'enhanced': 38,\n",
              "         'changes': 3099,\n",
              "         'support': 3653,\n",
              "         'view': 3784,\n",
              "         'invite': 288,\n",
              "         'anyone': 4763,\n",
              "         'revisit': 59,\n",
              "         'written': 3333,\n",
              "         'pairs': 37,\n",
              "         'jurists': 9,\n",
              "         'a1': 80,\n",
              "         'benjamin': 63,\n",
              "         'cardozo': 5,\n",
              "         'a2': 17,\n",
              "         'learned': 428,\n",
              "         'hand': 1400,\n",
              "         'b1': 13,\n",
              "         'john': 1423,\n",
              "         'marshall': 54,\n",
              "         'harlan': 13,\n",
              "         'b2': 22,\n",
              "         'iithe': 3,\n",
              "         'question': 5775,\n",
              "         'becomes': 439,\n",
              "         'current': 3037,\n",
              "         'version': 3267,\n",
              "         'either': 4013,\n",
              "         'pair': 132,\n",
              "         'improved': 457,\n",
              "         'credentials': 137,\n",
              "         'introductory': 91,\n",
              "         'notperhaps': 3,\n",
              "         'helps': 553,\n",
              "         'repeat': 602,\n",
              "         'wry': 5,\n",
              "         'kathleen': 14,\n",
              "         'sullivan': 19,\n",
              "         'stanford': 48,\n",
              "         'law': 1733,\n",
              "         'suggests': 443,\n",
              "         'harvard': 134,\n",
              "         'faculty': 74,\n",
              "         'wonder': 910,\n",
              "         'antonin': 6,\n",
              "         'scalia': 7,\n",
              "         'avoided': 191,\n",
              "         'learning': 464,\n",
              "         'others': 4921,\n",
              "         'managed': 292,\n",
              "         'grasp': 153,\n",
              "         'processes': 175,\n",
              "         'judging': 177,\n",
              "         'hope': 5474,\n",
              "         'anecdote': 31,\n",
              "         'gently': 22,\n",
              "         'illustrates': 129,\n",
              "         'less': 2725,\n",
              "         'humorous': 59,\n",
              "         'stronger': 140,\n",
              "         'clarence': 17,\n",
              "         'thomas': 328,\n",
              "         'mentions': 595,\n",
              "         'wanting': 256,\n",
              "         'return': 735,\n",
              "         'degree': 553,\n",
              "         'yaleat': 1,\n",
              "         'minimum': 275,\n",
              "         'questioning': 173,\n",
              "         'deserves': 421,\n",
              "         'reconsidered': 11,\n",
              "         'radial': 37,\n",
              "         'symmetry': 20,\n",
              "         'several': 3207,\n",
              "         'extinct': 60,\n",
              "         'lineages': 24,\n",
              "         'included': 2504,\n",
              "         'echinodermata': 1,\n",
              "         'bilateral': 9,\n",
              "         'homostelea': 1,\n",
              "         'asymmetrical': 9,\n",
              "         'cothurnocystis': 1,\n",
              "         'stylophora': 1,\n",
              "         'theres': 3248,\n",
              "         'apologize': 657,\n",
              "         'reconciling': 4,\n",
              "         'knowledge': 1776,\n",
              "         'sources': 10963,\n",
              "         'youve': 2416,\n",
              "         'done': 6168,\n",
              "         'history': 6524,\n",
              "         'studies': 646,\n",
              "         'archaeology': 54,\n",
              "         'scan': 128,\n",
              "         'email': 1955,\n",
              "         'translate': 248,\n",
              "         'mother': 959,\n",
              "         'child': 714,\n",
              "         'case': 6117,\n",
              "         'michael': 623,\n",
              "         'jackson': 226,\n",
              "         'studied': 184,\n",
              "         'motives': 205,\n",
              "         'reasonings': 7,\n",
              "         'judged': 93,\n",
              "         'upon': 1374,\n",
              "         'character': 1146,\n",
              "         'harshly': 18,\n",
              "         'wacko': 18,\n",
              "         'jacko': 5,\n",
              "         'tell': 3626,\n",
              "         'ignore': 892,\n",
              "         'incriminate': 3,\n",
              "         'continue': 4428,\n",
              "         'refuting': 33,\n",
              "         'bullshit': 445,\n",
              "         'jayjg': 79,\n",
              "         'keeps': 601,\n",
              "         '1801': 17,\n",
              "         '16': 720,\n",
              "         'jun': 510,\n",
              "         '2005': 2415,\n",
              "         'ok': 2577,\n",
              "         'bit': 3355,\n",
              "         'example': 3797,\n",
              "         'base': 425,\n",
              "         'duck': 133,\n",
              "         'barnstar': 989,\n",
              "         'life': 3775,\n",
              "         'us': 6748,\n",
              "         'stars': 208,\n",
              "         'post': 3681,\n",
              "         'block': 6816,\n",
              "         'expires': 149,\n",
              "         'funny': 819,\n",
              "         'thing': 5197,\n",
              "         'uncivil': 436,\n",
              "         'heading': 406,\n",
              "         'fight': 789,\n",
              "         'freedom': 686,\n",
              "         'contain': 618,\n",
              "         'praise': 130,\n",
              "         'looked': 1078,\n",
              "         '6': 1328,\n",
              "         'months': 1392,\n",
              "         'ago': 1961,\n",
              "         'much': 9352,\n",
              "         'able': 2335,\n",
              "         'quickly': 618,\n",
              "         'text': 4319,\n",
              "         'hard': 2096,\n",
              "         'drive': 420,\n",
              "         'ive': 8521,\n",
              "         'meaning': 1402,\n",
              "         'updating': 234,\n",
              "         'sound': 1041,\n",
              "         'time': 15097,\n",
              "         'generating': 44,\n",
              "         'interest': 2378,\n",
              "         'spent': 529,\n",
              "         'four': 2471,\n",
              "         'drum': 45,\n",
              "         'freely': 392,\n",
              "         'licensed': 327,\n",
              "         'length': 491,\n",
              "         'classical': 255,\n",
              "         'music': 1661,\n",
              "         'unfortunately': 1003,\n",
              "         'attempts': 579,\n",
              "         'failed': 758,\n",
              "         'effectively': 218,\n",
              "         'wikiproject': 1258,\n",
              "         'interested': 2342,\n",
              "         'wikipediatalkwikiprojectclassicalmusicarchive5needhelp21wikipediatalkwikiprojectmusicarchive3icouldusesomehelpwikipediatalkwikiprojectmusicarchive2raulbot2candthemusiclist': 1,\n",
              "         'given': 3748,\n",
              "         'featured': 942,\n",
              "         'digg': 19,\n",
              "         'got': 4233,\n",
              "         '1600': 28,\n",
              "         'diggs': 6,\n",
              "         'imo': 307,\n",
              "         'impressive': 119,\n",
              "         'process': 2116,\n",
              "         'things': 5681,\n",
              "         'subpages': 81,\n",
              "         'rfa': 712,\n",
              "         'noseptembers': 2,\n",
              "         '2004': 1580,\n",
              "         'differences': 436,\n",
              "         'elc': 8,\n",
              "         'surprised': 575,\n",
              "         'left': 2825,\n",
              "         'tc': 520,\n",
              "         'straw': 161,\n",
              "         'never': 6227,\n",
              "         'claimed': 820,\n",
              "         'odonohue': 2,\n",
              "         'position': 2259,\n",
              "         'practitioners': 67,\n",
              "         'researchers': 186,\n",
              "         'field': 1178,\n",
              "         'ignored': 530,\n",
              "         'dsm': 17,\n",
              "         'exactly': 1972,\n",
              "         'quote': 1953,\n",
              "         'says': 4181,\n",
              "         'agrees': 218,\n",
              "         'combating': 12,\n",
              "         'notion': 230,\n",
              "         'absurd': 312,\n",
              "         'part': 5547,\n",
              "         'claim': 3347,\n",
              "         'pedophilia': 50,\n",
              "         'sexual': 725,\n",
              "         'orientation': 108,\n",
              "         'hold': 835,\n",
              "         'unfair': 345,\n",
              "         'call': 2715,\n",
              "         'disorder': 146,\n",
              "         'divided': 153,\n",
              "         'end': 2691,\n",
              "         'day': 3799,\n",
              "         'value': 856,\n",
              "         'judgment': 228,\n",
              "         'cantor': 19,\n",
              "         'pointed': 679,\n",
              "         'earlier': 1163,\n",
              "         'thread': 571,\n",
              "         'scientific': 1111,\n",
              "         'judgement': 296,\n",
              "         'choose': 736,\n",
              "         'clearly': 3699,\n",
              "         'pretend': 250,\n",
              "         'basis': 944,\n",
              "         'mainland': 66,\n",
              "         'asia': 348,\n",
              "         'includes': 741,\n",
              "         'lower': 465,\n",
              "         'basin': 39,\n",
              "         'chinas': 25,\n",
              "         'yangtze': 5,\n",
              "         'river': 398,\n",
              "         'korea': 284,\n",
              "         'fine': 1747,\n",
              "         'found': 4385,\n",
              "         'citation': 1619,\n",
              "         'comprehensive': 238,\n",
              "         'dna': 167,\n",
              "         'study': 937,\n",
              "         'hammer': 94,\n",
              "         'generarizations': 1,\n",
              "         'speculation': 371,\n",
              "         'yayoi': 4,\n",
              "         'culture': 1176,\n",
              "         'brought': 842,\n",
              "         'japan': 519,\n",
              "         'migrants': 9,\n",
              "         'trace': 134,\n",
              "         'roots': 178,\n",
              "         'southeast': 71,\n",
              "         'asiasouth': 1,\n",
              "         'china': 685,\n",
              "         'describes': 327,\n",
              "         'migration': 67,\n",
              "         'based': 3064,\n",
              "         'osry465': 1,\n",
              "         'genes': 77,\n",
              "         'close': 1230,\n",
              "         'lineage': 70,\n",
              "         'haplogroups': 9,\n",
              "         'om122': 1,\n",
              "         'om95reiterates': 1,\n",
              "         'entire': 1753,\n",
              "         'haplogroup': 20,\n",
              "         'proposed': 1590,\n",
              "         'asian': 382,\n",
              "         'origin': 686,\n",
              "         'definition': 1678,\n",
              "         'southern': 391,\n",
              "         'hypothesizes': 1,\n",
              "         'dispersals': 3,\n",
              "         'neolithic': 22,\n",
              "         'farmers': 37,\n",
              "         'eventually': 561,\n",
              "         'concluding': 29,\n",
              "         'states': 3348,\n",
              "         'propose': 538,\n",
              "         'chromosomes': 19,\n",
              "         'descend': 27,\n",
              "         'prehistoric': 39,\n",
              "         'origins': 311,\n",
              "         'southeastern': 18,\n",
              "         'agriculture': 49,\n",
              "         'region': 703,\n",
              "         'hammers': 18,\n",
              "         'global': 605,\n",
              "         'sample': 136,\n",
              "         'consisted': 58,\n",
              "         '2500': 40,\n",
              "         'males': 99,\n",
              "         '39': 91,\n",
              "         'populations': 136,\n",
              "         'including': 2667,\n",
              "         'sampled': 13,\n",
              "         'across': 1034,\n",
              "         'japanese': 744,\n",
              "         'archipelago': 9,\n",
              "         'pretty': 2183,\n",
              "         'everyone': 2181,\n",
              "         'warren': 91,\n",
              "         'countysurrounding': 1,\n",
              "         'regions': 245,\n",
              "         'glens': 5,\n",
              "         'falls': 238,\n",
              "         'hospital': 175,\n",
              "         'qualifies': 186,\n",
              "         'native': 559,\n",
              "         'rachel': 56,\n",
              "         'ray': 121,\n",
              "         'actually': 5958,\n",
              "         'lake': 227,\n",
              "         'luzerne': 1,\n",
              "         'preceding': 1052,\n",
              "         'unsigned': 1086,\n",
              "         'comment': 5898,\n",
              "         'added': 6681,\n",
              "         '70100229154': 1,\n",
              "         '042857': 1,\n",
              "         'august': 1265,\n",
              "         '2007': 1660,\n",
              "         'hi': 5778,\n",
              "         'explicit': 185,\n",
              "         'fenian': 42,\n",
              "         'editwarring': 241,\n",
              "         'giants': 37,\n",
              "         'causeway': 7,\n",
              "         'terrorism': 409,\n",
              "         'notability': 2382,\n",
              "         'rurika': 2,\n",
              "         'kasugaa': 1,\n",
              "         'placed': 2015,\n",
              "         'kasuga': 1,\n",
              "         'speedily': 928,\n",
              "         'person': 5730,\n",
              "         'people': 17489,\n",
              "         'band': 1588,\n",
              "         'club': 980,\n",
              "         'company': 1720,\n",
              "         'web': 2072,\n",
              "         'indicate': 1422,\n",
              "         'assert': 598,\n",
              "         'guidelines': 3095,\n",
              "         'generally': 1739,\n",
              "         'accepted': 1443,\n",
              "         'contest': 1132,\n",
              "         'tagging': 647,\n",
              "         'existing': 1218,\n",
              "         'db': 602,\n",
              "         'leave': 4288,\n",
              "         'explaining': 1327,\n",
              "         'hesitate': 790,\n",
              "         'confirm': 740,\n",
              "         'subjects': 1289,\n",
              "         'guidelinesfor': 215,\n",
              "         'check': 4036,\n",
              "         'biographies': 789,\n",
              "         'sites': 1555,\n",
              "         'bands': 732,\n",
              "         'companies': 742,\n",
              "         'feel': 5905,\n",
              "         'free': 5299,\n",
              "         'lead': 2066,\n",
              "         'briefly': 207,\n",
              "         'summarize': 159,\n",
              "         'armenias': 2,\n",
              "         'necessary': 1389,\n",
              "         'thinks': 683,\n",
              "         'sentence': 2529,\n",
              "         'redundant': 298,\n",
              "         'welcome': 5608,\n",
              "         'tfd': 77,\n",
              "         'eced': 4,\n",
              "         'responded': 463,\n",
              "         'without': 7125,\n",
              "         'seeing': 909,\n",
              "         'responses': 294,\n",
              "         'response': 1994,\n",
              "         'saw': 1706,\n",
              "         'mine': 1019,\n",
              "         'tcwpchicagowpfour': 35,\n",
              "         'gay': 2581,\n",
              "         'antisemmitian': 1,\n",
              "         'archangel': 4,\n",
              "         'white': 1629,\n",
              "         'tigermeow': 1,\n",
              "         'greetingshhhuh': 1,\n",
              "         'two': 7706,\n",
              "         'ways': 868,\n",
              "         'erased': 179,\n",
              "         'ww2': 71,\n",
              "         'holocaust': 362,\n",
              "         'brutally': 21,\n",
              "         'slaying': 4,\n",
              "         'jews': 1520,\n",
              "         'gaysgypsysslavsanyone1': 2,\n",
              "         'antisemitian': 2,\n",
              "         'shave': 18,\n",
              "         'head': 1161,\n",
              "         'bald': 69,\n",
              "         'skinhead': 9,\n",
              "         'meetings2': 2,\n",
              "         'doubt': 1358,\n",
              "         'words': 3089,\n",
              "         'bible': 456,\n",
              "         'homosexuality': 183,\n",
              "         'deadly': 52,\n",
              "         'sin': 105,\n",
              "         'pentagram': 10,\n",
              "         'tatoo': 3,\n",
              "         'forehead': 20,\n",
              "         'satanistic': 3,\n",
              "         'masses': 80,\n",
              "         'pals3': 2,\n",
              "         'last': 4720,\n",
              "         'warning': 2351,\n",
              "         'fucking': 3297,\n",
              "         'wont': 2477,\n",
              "         'appreciate': 1911,\n",
              "         'nazi': 807,\n",
              "         'shwain': 2,\n",
              "         'wish': 2228,\n",
              "         'anymorebeware': 2,\n",
              "         'dark': 417,\n",
              "         'side': 1796,\n",
              "         'fuck': 8457,\n",
              "         'filthy': 84,\n",
              "         'ass': 2735,\n",
              "         'dry': 107,\n",
              "         'screwed': 81,\n",
              "         'someones': 324,\n",
              "         'templates': 997,\n",
              "         'dominance': 39,\n",
              "         'bow': 95,\n",
              "         'almighty': 39,\n",
              "         'administrators': 1159,\n",
              "         'play': 1361,\n",
              "         'outsidewith': 1,\n",
              "         'mom': 192,\n",
              "         '761227982': 6,\n",
              "         'lisak': 4,\n",
              "         'criticism': 1386,\n",
              "         'present': 1701,\n",
              "         'conforms': 47,\n",
              "         'npv': 11,\n",
              "         'rule': 1778,\n",
              "         'neutral': 2279,\n",
              "         'begin': 496,\n",
              "         'offer': 706,\n",
              "         'polygraph': 8,\n",
              "         'concerned': 874,\n",
              "         'results': 928,\n",
              "         'shocks': 6,\n",
              "         'complainant': 15,\n",
              "         'lies': 860,\n",
              "         'uncovered': 23,\n",
              "         'recantation': 2,\n",
              "         'perfectly': 679,\n",
              "         'valid': 1474,\n",
              "         'telling': 838,\n",
              "         'truth': 1989,\n",
              "         'machine': 329,\n",
              "         'investigator': 20,\n",
              "         'kanins': 4,\n",
              "         'research': 3272,\n",
              "         'followup': 57,\n",
              "         'recanted': 8,\n",
              "         'story': 1583,\n",
              "         'possible': 2927,\n",
              "         'verify': 602,\n",
              "         'false': 1932,\n",
              "         'recantations': 1,\n",
              "         'followups': 4,\n",
              "         'events': 1040,\n",
              "         ...})"
            ]
          },
          "metadata": {},
          "execution_count": 11
        }
      ]
    },
    {
      "cell_type": "code",
      "metadata": {
        "id": "_1N0vS7yeuAu",
        "colab": {
          "base_uri": "https://localhost:8080/"
        },
        "outputId": "d414d878-ee48-4d6e-d131-09cc2da2c6a0"
      },
      "source": [
        "len(counter)"
      ],
      "execution_count": 12,
      "outputs": [
        {
          "output_type": "execute_result",
          "data": {
            "text/plain": [
              "294575"
            ]
          },
          "metadata": {},
          "execution_count": 12
        }
      ]
    },
    {
      "cell_type": "code",
      "metadata": {
        "id": "_2RHJ_7qe3Sd"
      },
      "source": [
        "# the size of dictionary\n",
        "num_words = len(counter)\n",
        "\n",
        "#max number of words in a sequence\n",
        "max_length = 20"
      ],
      "execution_count": 13,
      "outputs": []
    },
    {
      "cell_type": "markdown",
      "metadata": {
        "id": "hL0hnNvhAeJ-"
      },
      "source": [
        "# **Train/test split**"
      ]
    },
    {
      "cell_type": "code",
      "metadata": {
        "id": "VEscsWcgAeKC"
      },
      "source": [
        "#train_size3 = int(data3.shape[0] * 0.8)\n",
        "#train3 = int(data3.shape[0] * 0.1)\n",
        "train_size = int(wiki_data.shape[0] * 0.1 * 0.8)\n",
        "\n",
        "train_sentences = wiki_data.text[:train_size]\n",
        "train_labels = wiki_data['label'][:train_size]\n",
        "test_sentences = wiki_data.text[train_size:]\n",
        "test_labels = wiki_data['label'][train_size:]"
      ],
      "execution_count": 14,
      "outputs": []
    },
    {
      "cell_type": "code",
      "source": [
        "print(train_size)\n"
      ],
      "metadata": {
        "colab": {
          "base_uri": "https://localhost:8080/"
        },
        "id": "tSwQiJMFbclO",
        "outputId": "04cfcdc1-87f8-40d5-e466-c853eebcc943"
      },
      "execution_count": 15,
      "outputs": [
        {
          "output_type": "stream",
          "name": "stdout",
          "text": [
            "12765\n"
          ]
        }
      ]
    },
    {
      "cell_type": "code",
      "metadata": {
        "id": "53vzWOEFAeKE"
      },
      "source": [
        "from keras.preprocessing.text import Tokenizer\n",
        "from keras.preprocessing.sequence import pad_sequences\n",
        "\n",
        "tokenizer = Tokenizer(num_words=num_words)\n",
        "tokenizer.fit_on_texts(train_sentences)\n",
        "\n",
        "word_index = tokenizer.word_index\n",
        "\n",
        "train_sequences = tokenizer.texts_to_sequences(train_sentences)\n",
        "test_sequences = tokenizer.texts_to_sequences(test_sentences)\n",
        "\n",
        "train_padded = pad_sequences(\n",
        "    train_sequences,maxlen = max_length, padding = \"post\", truncating = \"post\")\n",
        "test_padded = pad_sequences(\n",
        "    test_sequences,maxlen = max_length, padding = \"post\", truncating = \"post\")"
      ],
      "execution_count": 16,
      "outputs": []
    },
    {
      "cell_type": "code",
      "metadata": {
        "id": "rrsYx72zAeKn",
        "colab": {
          "base_uri": "https://localhost:8080/"
        },
        "outputId": "73f93284-ed46-4b11-8231-92cb2f57ec29"
      },
      "source": [
        "print(\"Actual sentence....\")\n",
        "print(wiki_data.text[1])\n",
        "print(\"Tokenised vector.....\")\n",
        "print(train_sequences[1])"
      ],
      "execution_count": 17,
      "outputs": [
        {
          "output_type": "stream",
          "name": "stdout",
          "text": [
            "Actual sentence....\n",
            "daww matches background colour im seemingly stuck thanks talk 2151 january 11 2016 utc\n",
            "Tokenised vector.....\n",
            "[20345, 2104, 1537, 5269, 12, 3230, 2449, 30, 4, 20346, 955, 1007, 5713, 199]\n"
          ]
        }
      ]
    },
    {
      "cell_type": "markdown",
      "metadata": {
        "id": "zaaGzcamAeKq"
      },
      "source": [
        "#Check inverse"
      ]
    },
    {
      "cell_type": "code",
      "metadata": {
        "id": "pp2o6hj4AeKr"
      },
      "source": [
        "reverse_word_index = dict([value,key] for (key,value) in word_index.items())"
      ],
      "execution_count": 18,
      "outputs": []
    },
    {
      "cell_type": "code",
      "metadata": {
        "id": "LXOaYjJ7AeKu"
      },
      "source": [
        "def decode(text):\n",
        "    return \" \".join([reverse_word_index.get(i,\"?\") for i in text])"
      ],
      "execution_count": 19,
      "outputs": []
    },
    {
      "cell_type": "code",
      "metadata": {
        "id": "u_CuyIIAAeKy",
        "colab": {
          "base_uri": "https://localhost:8080/",
          "height": 53
        },
        "outputId": "66c5b2c4-8033-47f8-d653-2b388a019b1b"
      },
      "source": [
        "decode(train_sequences[0])"
      ],
      "execution_count": 20,
      "outputs": [
        {
          "output_type": "execute_result",
          "data": {
            "text/plain": [
              "'explanationwhy edits made username hardcore metallica fan reverted werent vandalisms closure gas voted new york dolls fac please dont remove template talk page since im retired now892053827'"
            ],
            "application/vnd.google.colaboratory.intrinsic+json": {
              "type": "string"
            }
          },
          "metadata": {},
          "execution_count": 20
        }
      ]
    },
    {
      "cell_type": "code",
      "metadata": {
        "id": "_8Qu5aO1AeK1",
        "colab": {
          "base_uri": "https://localhost:8080/"
        },
        "outputId": "7b94f39a-fa54-4b68-95ab-26b959cc54ad"
      },
      "source": [
        "train_padded.shape"
      ],
      "execution_count": 21,
      "outputs": [
        {
          "output_type": "execute_result",
          "data": {
            "text/plain": [
              "(12765, 20)"
            ]
          },
          "metadata": {},
          "execution_count": 21
        }
      ]
    },
    {
      "cell_type": "code",
      "metadata": {
        "id": "0dLR-6qyAeK4",
        "colab": {
          "base_uri": "https://localhost:8080/"
        },
        "outputId": "8a4cc12b-11de-40ae-9dbc-cf7116c0723c"
      },
      "source": [
        "test_padded.shape"
      ],
      "execution_count": 22,
      "outputs": [
        {
          "output_type": "execute_result",
          "data": {
            "text/plain": [
              "(146806, 20)"
            ]
          },
          "metadata": {},
          "execution_count": 22
        }
      ]
    },
    {
      "cell_type": "markdown",
      "metadata": {
        "id": "qZ-ndJulES1A"
      },
      "source": [
        "## Build model"
      ]
    },
    {
      "cell_type": "code",
      "metadata": {
        "id": "_u7bBi2NAeK7"
      },
      "source": [
        "from keras.models import Sequential\n",
        "from keras.layers import Embedding, Bidirectional, LSTM, Dense, Dropout\n",
        "from keras.initializers import Constant\n",
        "from keras.optimizers.legacy import Adam\n",
        "\n",
        "model = Sequential()\n",
        "\n",
        "model.add(Embedding(num_words, 32, input_length = max_length, name = 'embed_layer'))\n",
        "model.add(Bidirectional(LSTM(64), name = 'bilstm_layer'))\n",
        "model.add(Dense(1,activation = \"sigmoid\", name = 'dense_layer'))\n",
        "\n",
        "optimizer = Adam(learning_rate = 3e-4)\n",
        "\n",
        "model.compile(loss = \"binary_crossentropy\", optimizer = optimizer, metrics = [\"accuracy\"])"
      ],
      "execution_count": 23,
      "outputs": []
    },
    {
      "cell_type": "code",
      "metadata": {
        "id": "9pRYYOruAeK_",
        "colab": {
          "base_uri": "https://localhost:8080/"
        },
        "outputId": "1df85bad-cd89-42df-cbd4-7a9c61f6d41f"
      },
      "source": [
        "model.summary()"
      ],
      "execution_count": 24,
      "outputs": [
        {
          "output_type": "stream",
          "name": "stdout",
          "text": [
            "Model: \"sequential\"\n",
            "_________________________________________________________________\n",
            " Layer (type)                Output Shape              Param #   \n",
            "=================================================================\n",
            " embed_layer (Embedding)     (None, 20, 32)            9426400   \n",
            "                                                                 \n",
            " bilstm_layer (Bidirectiona  (None, 128)               49664     \n",
            " l)                                                              \n",
            "                                                                 \n",
            " dense_layer (Dense)         (None, 1)                 129       \n",
            "                                                                 \n",
            "=================================================================\n",
            "Total params: 9476193 (36.15 MB)\n",
            "Trainable params: 9476193 (36.15 MB)\n",
            "Non-trainable params: 0 (0.00 Byte)\n",
            "_________________________________________________________________\n"
          ]
        }
      ]
    },
    {
      "cell_type": "markdown",
      "metadata": {
        "id": "U63OV77joAbU"
      },
      "source": [
        "# **Training on dataset**"
      ]
    },
    {
      "cell_type": "code",
      "metadata": {
        "id": "G2WVWvufJNja",
        "colab": {
          "base_uri": "https://localhost:8080/"
        },
        "outputId": "51868f71-3bfd-40d3-e751-454ea29ab58c"
      },
      "source": [
        "from keras.callbacks import ModelCheckpoint, EarlyStopping\n",
        "from keras.callbacks import ReduceLROnPlateau\n",
        "batch_size = 32\n",
        "\n",
        "earlyStopping = EarlyStopping(monitor='val_loss', patience=10, verbose=0, mode='min')\n",
        "mcp_save = ModelCheckpoint('.mdl_wts.hdf5', save_best_only=True, monitor='val_loss', mode='min')\n",
        "reduce_lr_loss = ReduceLROnPlateau(monitor='val_loss', factor=0.1, patience=7, verbose=1, epsilon=1e-4, mode='min')\n",
        "\n",
        "history = model.fit(train_padded, train_labels, batch_size=batch_size, epochs=20, verbose=1, callbacks=[earlyStopping, mcp_save, reduce_lr_loss], validation_split=0.25,)"
      ],
      "execution_count": 25,
      "outputs": [
        {
          "output_type": "stream",
          "name": "stderr",
          "text": [
            "WARNING:tensorflow:`epsilon` argument is deprecated and will be removed, use `min_delta` instead.\n"
          ]
        },
        {
          "output_type": "stream",
          "name": "stdout",
          "text": [
            "Epoch 1/20\n",
            "300/300 [==============================] - 64s 199ms/step - loss: 0.3262 - accuracy: 0.9012 - val_loss: 0.1853 - val_accuracy: 0.9330 - lr: 3.0000e-04\n",
            "Epoch 2/20\n",
            "300/300 [==============================] - 60s 198ms/step - loss: 0.1368 - accuracy: 0.9540 - val_loss: 0.1661 - val_accuracy: 0.9474 - lr: 3.0000e-04\n",
            "Epoch 3/20\n",
            "300/300 [==============================] - 58s 192ms/step - loss: 0.0540 - accuracy: 0.9821 - val_loss: 0.2043 - val_accuracy: 0.9408 - lr: 3.0000e-04\n",
            "Epoch 4/20\n",
            "300/300 [==============================] - 58s 194ms/step - loss: 0.0202 - accuracy: 0.9940 - val_loss: 0.2604 - val_accuracy: 0.9101 - lr: 3.0000e-04\n",
            "Epoch 5/20\n",
            "300/300 [==============================] - 59s 196ms/step - loss: 0.0118 - accuracy: 0.9966 - val_loss: 0.2911 - val_accuracy: 0.9298 - lr: 3.0000e-04\n",
            "Epoch 6/20\n",
            "300/300 [==============================] - 57s 191ms/step - loss: 0.0037 - accuracy: 0.9991 - val_loss: 0.3319 - val_accuracy: 0.9179 - lr: 3.0000e-04\n",
            "Epoch 7/20\n",
            "300/300 [==============================] - 58s 195ms/step - loss: 0.0023 - accuracy: 0.9996 - val_loss: 0.3423 - val_accuracy: 0.9220 - lr: 3.0000e-04\n",
            "Epoch 8/20\n",
            "300/300 [==============================] - 58s 194ms/step - loss: 0.0013 - accuracy: 0.9998 - val_loss: 0.3745 - val_accuracy: 0.9148 - lr: 3.0000e-04\n",
            "Epoch 9/20\n",
            "300/300 [==============================] - ETA: 0s - loss: 5.4982e-04 - accuracy: 0.9999\n",
            "Epoch 9: ReduceLROnPlateau reducing learning rate to 3.000000142492354e-05.\n",
            "300/300 [==============================] - 58s 192ms/step - loss: 5.4982e-04 - accuracy: 0.9999 - val_loss: 0.3947 - val_accuracy: 0.9151 - lr: 3.0000e-04\n",
            "Epoch 10/20\n",
            "300/300 [==============================] - 59s 196ms/step - loss: 4.5851e-04 - accuracy: 0.9999 - val_loss: 0.3981 - val_accuracy: 0.9148 - lr: 3.0000e-05\n",
            "Epoch 11/20\n",
            "300/300 [==============================] - 59s 195ms/step - loss: 4.4901e-04 - accuracy: 0.9999 - val_loss: 0.4007 - val_accuracy: 0.9151 - lr: 3.0000e-05\n",
            "Epoch 12/20\n",
            "300/300 [==============================] - 59s 195ms/step - loss: 4.3887e-04 - accuracy: 0.9999 - val_loss: 0.4043 - val_accuracy: 0.9145 - lr: 3.0000e-05\n"
          ]
        }
      ]
    },
    {
      "cell_type": "code",
      "metadata": {
        "id": "J7iuW2vFRNVE"
      },
      "source": [
        "# summarize the performance of the fit model\n",
        "def summarize_model(model, history, trainX, trainy, testX, testy):\n",
        "  _,train_acc = model.evaluate(trainX,trainy, verbose=0)\n",
        "  _,test_acc = model.evaluate(trainX,trainy, verbose = 0)\n",
        "  print('Train: %.3f, Test: %.3f' %(train_acc, test_acc))\n",
        "  print(\"\\n\\n\")\n",
        "  plt.plot(history.history['accuracy'])\n",
        "  plt.plot(history.history['val_accuracy'])\n",
        "  plt.title('model accuracy')\n",
        "  plt.ylabel('accuracy')\n",
        "  plt.xlabel('epoch')\n",
        "  plt.legend(['train', 'test'], loc='upper left')\n",
        "  plt.show()\n",
        "  # summarize history for loss\n",
        "  plt.plot(history.history['loss'])\n",
        "  plt.plot(history.history['val_loss'])\n",
        "  plt.title('model loss')\n",
        "  plt.ylabel('loss')\n",
        "  plt.xlabel('epoch')\n",
        "  plt.legend(['train', 'test'], loc='upper left')\n",
        "  plt.show()"
      ],
      "execution_count": 26,
      "outputs": []
    },
    {
      "cell_type": "code",
      "metadata": {
        "id": "P8HmEwCrAeLK",
        "colab": {
          "base_uri": "https://localhost:8080/",
          "height": 996
        },
        "outputId": "8cf01b91-ed35-46ac-8be4-3d53c707195c"
      },
      "source": [
        "summarize_model(model, history, train_padded, train_labels, test_padded, test_labels)"
      ],
      "execution_count": 27,
      "outputs": [
        {
          "output_type": "stream",
          "name": "stdout",
          "text": [
            "Train: 0.979, Test: 0.979\n",
            "\n",
            "\n",
            "\n"
          ]
        },
        {
          "output_type": "display_data",
          "data": {
            "text/plain": [
              "<Figure size 640x480 with 1 Axes>"
            ],
            "image/png": "[encoded data removed]"
          },
          "metadata": {}
        },
        {
          "output_type": "display_data",
          "data": {
            "text/plain": [
              "<Figure size 640x480 with 1 Axes>"
            ],
            "image/png": "[encoded data removed]"
          },
          "metadata": {}
        }
      ]
    },
    {
      "cell_type": "code",
      "metadata": {
        "id": "_X1bYQDaSesX"
      },
      "source": [
        "def accuracy_report(testX, testy):\n",
        "  # predict crisp classes for test set\n",
        "  yhat_classes = model.predict(testX, verbose=0)\n",
        "  classes_y = np.argmax(yhat_classes,axis=1)\n",
        "  from sklearn.metrics import accuracy_score\n",
        "  target_names =  ['class 0', 'class 1']\n",
        "  print(\"Accuracy:\", accuracy_score(testy, classes_y))"
      ],
      "execution_count": 34,
      "outputs": []
    },
    {
      "cell_type": "code",
      "metadata": {
        "id": "Seyo4H10S4Cm",
        "colab": {
          "base_uri": "https://localhost:8080/"
        },
        "outputId": "833f6cf3-23f6-44c2-ef9b-1aeff186b109"
      },
      "source": [
        "accuracy_report(test_padded, test_labels)"
      ],
      "execution_count": 35,
      "outputs": [
        {
          "output_type": "stream",
          "name": "stdout",
          "text": [
            "Accuracy: 0.9040774900208438\n"
          ]
        }
      ]
    },
    {
      "cell_type": "code",
      "metadata": {
        "id": "Xf5mSr6deKHo"
      },
      "source": [
        "model.save('model.h5')"
      ],
      "execution_count": 36,
      "outputs": []
    },
    {
      "cell_type": "code",
      "source": [],
      "metadata": {
        "id": "3-XxCpc8bDIO"
      },
      "execution_count": null,
      "outputs": []
    }
  ]
}